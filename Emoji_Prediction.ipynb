{
  "nbformat": 4,
  "nbformat_minor": 0,
  "metadata": {
    "colab": {
      "name": "Emoji_Prediction.ipynb",
      "provenance": [],
      "collapsed_sections": [],
      "toc_visible": true,
      "include_colab_link": true
    },
    "kernelspec": {
      "name": "python3",
      "display_name": "Python 3"
    },
    "accelerator": "GPU"
  },
  "cells": [
    {
      "cell_type": "markdown",
      "metadata": {
        "id": "view-in-github",
        "colab_type": "text"
      },
      "source": [
        "<a href=\"https://colab.research.google.com/github/friggaly/G23/blob/master/Emoji_Prediction.ipynb\" target=\"_parent\"><img src=\"https://colab.research.google.com/assets/colab-badge.svg\" alt=\"Open In Colab\"/></a>"
      ]
    },
    {
      "cell_type": "markdown",
      "metadata": {
        "id": "7z4NJFtj0-A-",
        "colab_type": "text"
      },
      "source": [
        "# **Emoji Prediction**"
      ]
    },
    {
      "cell_type": "code",
      "metadata": {
        "id": "EdT1iIujuD6s",
        "colab_type": "code",
        "outputId": "c615b193-c2e1-4e42-eefa-c4366725a781",
        "colab": {
          "base_uri": "https://localhost:8080/",
          "height": 122
        }
      },
      "source": [
        "from google.colab import drive\n",
        "drive.mount('/content/drive')"
      ],
      "execution_count": 2,
      "outputs": [
        {
          "output_type": "stream",
          "text": [
            "Go to this URL in a browser: https://accounts.google.com/o/oauth2/auth?client_id=947318989803-6bn6qk8qdgf4n4g3pfee6491hc0brc4i.apps.googleusercontent.com&redirect_uri=urn%3aietf%3awg%3aoauth%3a2.0%3aoob&response_type=code&scope=email%20https%3a%2f%2fwww.googleapis.com%2fauth%2fdocs.test%20https%3a%2f%2fwww.googleapis.com%2fauth%2fdrive%20https%3a%2f%2fwww.googleapis.com%2fauth%2fdrive.photos.readonly%20https%3a%2f%2fwww.googleapis.com%2fauth%2fpeopleapi.readonly\n",
            "\n",
            "Enter your authorization code:\n",
            "··········\n",
            "Mounted at /content/drive\n"
          ],
          "name": "stdout"
        }
      ]
    },
    {
      "cell_type": "code",
      "metadata": {
        "id": "UP0Wa2FFKGxf",
        "colab_type": "code",
        "colab": {}
      },
      "source": [
        "import pandas as pd\n",
        "import numpy as np\n",
        "import random"
      ],
      "execution_count": 0,
      "outputs": []
    },
    {
      "cell_type": "markdown",
      "metadata": {
        "id": "qanwUr861Kcl",
        "colab_type": "text"
      },
      "source": [
        "**Preprocessing**"
      ]
    },
    {
      "cell_type": "code",
      "metadata": {
        "id": "Vxy_IY1pSzZX",
        "colab_type": "code",
        "colab": {}
      },
      "source": [
        "#Importing datasets#\n",
        "#Train set\n",
        "file1 = open(\"/content/drive/My Drive/Emoji_prediction/us_train.text\", \"r+\", encoding=\"utf-8\")\n",
        "train_text = file1.readlines()\n",
        "file2 = open(\"/content/drive/My Drive/Emoji_prediction/us_train.labels\", \"r+\", encoding=\"utf-8\")\n",
        "train_labels = file2.readlines()\n",
        "#Development set\n",
        "file3 = open(\"/content/drive/My Drive/Emoji_prediction/us_dev.text\", \"r+\", encoding=\"utf-8\")\n",
        "dev_text = file3.readlines()\n",
        "file4 = open(\"/content/drive/My Drive/Emoji_prediction/us_dev.labels\", \"r+\", encoding=\"utf-8\")\n",
        "dev_labels = file4.readlines()\n",
        "#Test set\n",
        "file5 = open(\"/content/drive/My Drive/Emoji_prediction/us_test.text\", \"r+\", encoding=\"utf-8\")\n",
        "test_text = file5.readlines()\n",
        "file6 = open(\"/content/drive/My Drive/Emoji_prediction/us_test.labels\", \"r+\", encoding=\"utf-8\")\n",
        "test_labels = file6.readlines()\n",
        "\n",
        "train_set = []\n",
        "dev_set = []\n",
        "test_set = []\n",
        "    \n",
        "for i in range(len(train_text)):\n",
        "    train_set.append((train_text[i].replace(\"\\n\", \"\"), train_labels[i].replace(\"\\n\", \"\")))\n",
        "for i in range(len(dev_text)):\n",
        "    dev_set.append((dev_text[i].replace(\"\\n\", \"\"), dev_labels[i].replace(\"\\n\", \"\")))\n",
        "for i in range(len(test_text)):\n",
        "    test_set.append((test_text[i].replace(\"\\n\", \"\"), test_labels[i].replace(\"\\n\", \"\")))\n",
        "\n",
        "#Shuffle datasets to avoid overfitting\n",
        "random.shuffle(train_set)\n",
        "random.shuffle(test_set)\n",
        "random.shuffle(dev_set)"
      ],
      "execution_count": 0,
      "outputs": []
    },
    {
      "cell_type": "code",
      "metadata": {
        "id": "cn7h82Ovhg8I",
        "colab_type": "code",
        "outputId": "ac28e854-c0a3-44f3-d938-c9c3e92972ee",
        "colab": {
          "base_uri": "https://localhost:8080/",
          "height": 88
        }
      },
      "source": [
        "print(train_set[:5])\n",
        "print(dev_set[:5])\n",
        "print(test_set[:5])"
      ],
      "execution_count": 5,
      "outputs": [
        {
          "output_type": "stream",
          "text": [
            "[(\"I can't wait to go on adventures with you @ Downtown San Jose \", '0'), ('The only perk of traffic jams. #architecture #SanFrancisco @ Pacific Heights, San Francisco,… ', '1'), ('Ok.....Last One @ Savannah State University ', '2'), ('in love! @ Kotoya Ramen National ', '1'), (\"Visiting Dad for Father's Day #ENDALZ (@ St. Michael The Archangel Catholic Cemetery &amp; Mausoleum in Palatine, IL) \", '13')]\n",
            "[('These things happen. shooter: @user #hmm #griproyaltomorrow #doingthings…', '18'), ('#caribana2016 with international bae @user @ Toronto, Ontario', '1'), ('Morning Boos @ Minnesota Ave, Washington,D.C', '9'), ('What a time to be alive!? We want to thank you for the outstanding support. NEW FUTURE - PURPLE REIGN', '4'), ('Convos wit him melt my heart @ Lake Sammamish', '1')]\n",
            "[(\"'Cause I want you bad, yeah I want you baby #niallhoran #kdwbjingleball @ Xcel Energy Center\", '6'), ('Our Preference Day was so special! Having our new sisters run into our arms was even better …', '13'), ('You’re not special &amp; that’s ok. I’m here to set you straight &amp; help you the bright side of life .', '6'), ('Harvesting and winnowing the wheat so it can be sent off for cleaning and milling! Such a…', '1'), ('My dog is being a straight-up goof tonight #funnygsd #adorable #dogsbeingcute #dogs #dog…', '2')]\n"
          ],
          "name": "stdout"
        }
      ]
    }
  ]
}